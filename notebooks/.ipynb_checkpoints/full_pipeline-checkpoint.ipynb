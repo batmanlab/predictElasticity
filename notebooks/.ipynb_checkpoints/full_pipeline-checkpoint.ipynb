{
 "cells": [
  {
   "cell_type": "markdown",
   "metadata": {
    "toc": true
   },
   "source": [
    "<h1>Table of Contents<span class=\"tocSkip\"></span></h1>\n",
    "<div class=\"toc\"><ul class=\"toc-item\"></ul></div>"
   ]
  },
  {
   "cell_type": "markdown",
   "metadata": {},
   "source": [
    "# Data Loading and DataFrame/DataSeries Generation"
   ]
  },
  {
   "cell_type": "markdown",
   "metadata": {},
   "source": [
    "We're going to load all the image data into an xarray data series object.  We'll also do some image manipulation to make sure everything is the same size (via downsampling), and we'll try to grab some metadata out of the DICOM info.  This might get trickier as future data may be "
   ]
  },
  {
   "cell_type": "code",
   "execution_count": 1,
   "metadata": {},
   "outputs": [],
   "source": [
    "import matplotlib.pyplot as plt\n",
    "plt.rcParams['figure.figsize'] = (10,8)\n",
    "import SimpleITK as sitk\n",
    "import sys, os\n",
    "import numpy as np\n",
    "import pandas as pd\n",
    "import xarray as xr\n",
    "%matplotlib inline\n",
    "import pickle as pkl\n",
    "from mre.preprocessing import MREDataset\n",
    "from mre.mask import add_elast_mask\n",
    "from mre.registration import add_liver_mask \n",
    "from skimage import morphology\n",
    "%load_ext autoreload\n",
    "%autoreload 2"
   ]
  },
  {
   "cell_type": "code",
   "execution_count": 2,
   "metadata": {},
   "outputs": [],
   "source": [
    "#from mre.preprocessing import make_nifti_atlas\n",
    "#make_nifti_atlas()"
   ]
  },
  {
   "cell_type": "code",
   "execution_count": 3,
   "metadata": {},
   "outputs": [],
   "source": [
    "full_data_dir = '/pghbio/dbmi/batmanlab/Data/MRE/'\n",
    "subjects = sorted([x for x in os.listdir(full_data_dir) if x.isdigit()])\n",
    "subdir_names = ['SE00001','SE00002','SE00003','SE00004','SE00005','SE00006']\n",
    "sequence_labels = ['T2SS', 'T1Pre', 'T1Pos', 'T2FR', 'elastMsk', 'elast']\n",
    "extras = ['extra0', 'extra1', 'extra2', 'extra3']"
   ]
  },
  {
   "cell_type": "code",
   "execution_count": 4,
   "metadata": {},
   "outputs": [],
   "source": [
    "mre_ds = MREDataset(full_data_dir, 256, 256, 4, n_extras=4)"
   ]
  },
  {
   "cell_type": "code",
   "execution_count": 5,
   "metadata": {},
   "outputs": [
    {
     "data": {
      "application/vnd.jupyter.widget-view+json": {
       "model_id": "135a95397ab6411f8e774c51df567c7f",
       "version_major": 2,
       "version_minor": 0
      },
      "text/plain": [
       "HBox(children=(IntProgress(value=0, description='Subject', max=44, style=ProgressStyle(description_width='init…"
      ]
     },
     "metadata": {},
     "output_type": "display_data"
    },
    {
     "name": "stderr",
     "output_type": "stream",
     "text": [
      "/pghbio/dbmi/batmanlab/bpollack/predictElasticity/mre/preprocessing.py:257: RuntimeWarning: invalid value encountered in greater\n",
      "  mod_fuz = np.where(mod_fuz > 1, mod_fuz, np.nan)\n"
     ]
    },
    {
     "name": "stdout",
     "output_type": "stream",
     "text": [
      "\n"
     ]
    }
   ],
   "source": [
    "mre_ds.load_data(norm=False, write_nifti=True)"
   ]
  },
  {
   "cell_type": "code",
   "execution_count": 6,
   "metadata": {},
   "outputs": [],
   "source": [
    "ds = add_elast_mask(mre_ds.ds, 'extra0')"
   ]
  },
  {
   "cell_type": "code",
   "execution_count": 7,
   "metadata": {},
   "outputs": [],
   "source": [
    "pkl.dump(ds, open(full_data_dir+'mre_ds_preprocess_1.p', 'wb'), protocol=-1)"
   ]
  },
  {
   "cell_type": "code",
   "execution_count": 8,
   "metadata": {},
   "outputs": [
    {
     "name": "stderr",
     "output_type": "stream",
     "text": [
      "100%|██████████| 44/44 [00:01<00:00, 32.10it/s]\n"
     ]
    }
   ],
   "source": [
    "ds = add_liver_mask(ds, snapmask=True)"
   ]
  },
  {
   "cell_type": "code",
   "execution_count": 9,
   "metadata": {},
   "outputs": [],
   "source": [
    "pkl.dump(ds, open(full_data_dir+'mre_ds_preprocess_3_snapmask.p', 'wb'), protocol=-1)"
   ]
  },
  {
   "cell_type": "code",
   "execution_count": 12,
   "metadata": {},
   "outputs": [],
   "source": [
    "ds = pkl.load(open(full_data_dir+'mre_ds_preprocess_3_snapmask.p', 'rb'))"
   ]
  },
  {
   "cell_type": "code",
   "execution_count": 13,
   "metadata": {},
   "outputs": [],
   "source": [
    "for subj in ds.subject:\n",
    "    for z in range(4):\n",
    "        # ds['image'].loc[dict(sequence='extra2', z=z, subject=subj)] = (ds['image'].loc[dict(sequence='msk', z=z, subject=subj)]+0.1) * \\\n",
    "        # (morphology.dilation(ds['image'].loc[dict(sequence='liverMsk', z=z, subject=subj)], morphology.square(20))*0.5)\n",
    "        # ds['image'].loc[dict(sequence='liverMsk', z=z, subject=subj)]\n",
    "        ds['image'].loc[dict(sequence='extra2', z=z, subject=subj)] = (morphology.dilation(ds['image'].loc[dict(sequence='liverMsk', z=z, subject=subj)], morphology.square(20))*0.5)\n",
    "new_sequence = [a.replace('extra2', 'comboMsk') for a in ds.sequence.values]\n",
    "ds = ds.assign_coords(sequence=new_sequence)"
   ]
  },
  {
   "cell_type": "code",
   "execution_count": 14,
   "metadata": {},
   "outputs": [],
   "source": [
    "pkl.dump(ds, open(full_data_dir+'mre_ds_preprocess_4_combomask.p', 'wb'), protocol=-1)"
   ]
  },
  {
   "cell_type": "code",
   "execution_count": null,
   "metadata": {},
   "outputs": [],
   "source": []
  }
 ],
 "metadata": {
  "kernelspec": {
   "display_name": "Python 3",
   "language": "python",
   "name": "python3"
  },
  "language_info": {
   "codemirror_mode": {
    "name": "ipython",
    "version": 3
   },
   "file_extension": ".py",
   "mimetype": "text/x-python",
   "name": "python",
   "nbconvert_exporter": "python",
   "pygments_lexer": "ipython3",
   "version": "3.6.7"
  },
  "toc": {
   "base_numbering": 1,
   "nav_menu": {},
   "number_sections": true,
   "sideBar": true,
   "skip_h1_title": true,
   "title_cell": "Table of Contents",
   "title_sidebar": "Contents",
   "toc_cell": true,
   "toc_position": {
    "height": "calc(100% - 180px)",
    "left": "10px",
    "top": "150px",
    "width": "480px"
   },
   "toc_section_display": true,
   "toc_window_display": true
  }
 },
 "nbformat": 4,
 "nbformat_minor": 2
}
