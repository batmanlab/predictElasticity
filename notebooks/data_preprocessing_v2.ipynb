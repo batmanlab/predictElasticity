{
 "cells": [
  {
   "cell_type": "markdown",
   "metadata": {
    "toc": true
   },
   "source": [
    "<h1>Table of Contents<span class=\"tocSkip\"></span></h1>\n",
    "<div class=\"toc\"><ul class=\"toc-item\"></ul></div>"
   ]
  },
  {
   "cell_type": "markdown",
   "metadata": {},
   "source": [
    "# Data Loading and DataFrame/DataSeries Generation"
   ]
  },
  {
   "cell_type": "markdown",
   "metadata": {},
   "source": [
    "We're going to load all the image data into an xarray data series object.  We'll also do some image manipulation to make sure everything is the same size (via downsampling), and we'll try to grab some metadata out of the DICOM info.  This might get trickier as future data may be "
   ]
  },
  {
   "cell_type": "code",
   "execution_count": 1,
   "metadata": {},
   "outputs": [],
   "source": [
    "import matplotlib.pyplot as plt\n",
    "plt.rcParams['figure.figsize'] = (10,8)\n",
    "import SimpleITK as sitk\n",
    "import sys, os\n",
    "import numpy as np\n",
    "import pandas as pd\n",
    "import xarray as xr\n",
    "%matplotlib inline\n",
    "import pickle as pkl\n",
    "from mre.preprocessing import MREDataset\n",
    "from mre.mask import add_elast_mask\n",
    "%load_ext autoreload\n",
    "%autoreload 2"
   ]
  },
  {
   "cell_type": "code",
   "execution_count": 2,
   "metadata": {},
   "outputs": [],
   "source": [
    "full_data_dir = '/pghbio/dbmi/batmanlab/Data/MRE/'\n",
    "subjects = sorted([x for x in os.listdir(full_data_dir) if x.isdigit()])\n",
    "subdir_names = ['SE00001','SE00002','SE00003','SE00004','SE00005','SE00006']\n",
    "sequence_labels = ['T2SS', 'T1Pre', 'T1Pos', 'T2FR', 'elastMsk', 'elast']\n",
    "extras = ['extra0', 'extra1', 'extra2', 'extra3']"
   ]
  },
  {
   "cell_type": "code",
   "execution_count": 3,
   "metadata": {},
   "outputs": [],
   "source": [
    "mre_ds = MREDataset(full_data_dir, 256, 256, 4, n_extras=4)"
   ]
  },
  {
   "cell_type": "code",
   "execution_count": 4,
   "metadata": {},
   "outputs": [
    {
     "data": {
      "application/vnd.jupyter.widget-view+json": {
       "model_id": "9cea44e6bc954e91be7b8e9b2d6d5c35",
       "version_major": 2,
       "version_minor": 0
      },
      "text/plain": [
       "HBox(children=(IntProgress(value=0, description='Subject', max=46, style=ProgressStyle(description_width='init…"
      ]
     },
     "metadata": {},
     "output_type": "display_data"
    },
    {
     "name": "stderr",
     "output_type": "stream",
     "text": [
      "/pghbio/dbmi/batmanlab/bpollack/predictElasticity/mre/preprocessing.py:248: RuntimeWarning: invalid value encountered in greater\n",
      "  mod_fuz = np.where(mod_fuz > 1, mod_fuz, np.nan)\n"
     ]
    },
    {
     "name": "stdout",
     "output_type": "stream",
     "text": [
      "\n"
     ]
    }
   ],
   "source": [
    "mre_ds.load_data(norm=False, write_nifti=True)"
   ]
  },
  {
   "cell_type": "code",
   "execution_count": 5,
   "metadata": {},
   "outputs": [],
   "source": [
    "ds = add_elast_mask(mre_ds.ds, 'extra0')"
   ]
  },
  {
   "cell_type": "code",
   "execution_count": 6,
   "metadata": {},
   "outputs": [
    {
     "data": {
      "text/plain": [
       "<xarray.DataArray 'subject' (subject: 46)>\n",
       "array(['162', '163', '178', '189', '195', '197', '218', '220', '222', '239',\n",
       "       '264', '280', '289', '292', '295', '296', '299', '302', '331', '332',\n",
       "       '343', '351', '354', '357', '358', '360', '361', '363', '365', '368',\n",
       "       '370', '372', '375', '380', '381', '383', '386', '388', '391', '394',\n",
       "       '399', '402', '403', '404', '405', '406'], dtype='<U3')\n",
       "Coordinates:\n",
       "  * subject  (subject) <U3 '162' '163' '178' '189' ... '403' '404' '405' '406'"
      ]
     },
     "execution_count": 6,
     "metadata": {},
     "output_type": "execute_result"
    }
   ],
   "source": [
    "ds.subject"
   ]
  },
  {
   "cell_type": "code",
   "execution_count": 7,
   "metadata": {},
   "outputs": [],
   "source": [
    "pkl.dump(ds, open(full_data_dir+'mre_ds_preprocess_1.p', 'wb'), protocol=-1)"
   ]
  },
  {
   "cell_type": "code",
   "execution_count": 8,
   "metadata": {},
   "outputs": [
    {
     "data": {
      "text/plain": [
       "<xarray.Dataset>\n",
       "Dimensions:   (sequence: 10, subject: 46, x: 256, y: 256, z: 4)\n",
       "Coordinates:\n",
       "  * subject   (subject) <U3 '162' '163' '178' '189' ... '403' '404' '405' '406'\n",
       "  * sequence  (sequence) <U8 'T1Pre' 'T1Pos' 'T2FR' ... 'extra2' 'extra3'\n",
       "Dimensions without coordinates: x, y, z\n",
       "Data variables:\n",
       "    image     (subject, sequence, z, y, x) float32 0.0 0.0 0.0 ... 0.0 0.0 0.0\n",
       "    age       (subject) int8 -27 -91 -107 117 -123 -107 ... -107 -107 5 -59 101\n",
       "    z_space   (subject, sequence) float16 13.8 10.0 10.0 10.0 ... 0.0 0.0 0.0"
      ]
     },
     "execution_count": 8,
     "metadata": {},
     "output_type": "execute_result"
    }
   ],
   "source": [
    "ds"
   ]
  },
  {
   "cell_type": "code",
   "execution_count": null,
   "metadata": {},
   "outputs": [],
   "source": []
  }
 ],
 "metadata": {
  "kernelspec": {
   "display_name": "Python 3",
   "language": "python",
   "name": "python3"
  },
  "language_info": {
   "codemirror_mode": {
    "name": "ipython",
    "version": 3
   },
   "file_extension": ".py",
   "mimetype": "text/x-python",
   "name": "python",
   "nbconvert_exporter": "python",
   "pygments_lexer": "ipython3",
   "version": "3.6.7"
  },
  "toc": {
   "base_numbering": 1,
   "nav_menu": {},
   "number_sections": true,
   "sideBar": true,
   "skip_h1_title": true,
   "title_cell": "Table of Contents",
   "title_sidebar": "Contents",
   "toc_cell": true,
   "toc_position": {
    "height": "calc(100% - 180px)",
    "left": "10px",
    "top": "150px",
    "width": "480px"
   },
   "toc_section_display": true,
   "toc_window_display": true
  }
 },
 "nbformat": 4,
 "nbformat_minor": 2
}
